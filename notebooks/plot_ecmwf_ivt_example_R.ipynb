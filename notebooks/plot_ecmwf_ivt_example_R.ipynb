{
 "cells": [
  {
   "cell_type": "code",
   "execution_count": 2,
   "id": "13efd305-095b-4a62-b7e6-bda1ed03c31e",
   "metadata": {},
   "outputs": [
    {
     "ename": "ERROR",
     "evalue": "Error in library(ncdf4): there is no package called ‘ncdf4’\n",
     "execution_count": 2,
     "output_type": "error",
     "traceback": [
      "Error in library(ncdf4): there is no package called ‘ncdf4’\nTraceback:\n",
      "1. library(ncdf4)",
      "2. stop(txt, domain = NA)"
     ]
    }
   ],
   "source": [
    "source('/glade/scratch/deflorio/all_R_files')\n",
    "\n",
    "filename = '/glade/scratch/deflorio/IVT_20170213.nc'\n",
    "\n",
    "\n",
    "#------------------------------\n",
    "# READ IN SAMPLE IVT NCDF FILE\n",
    "#------------------------------\n",
    "\n",
    "library(ncdf4)\n",
    "\n",
    "a   \t= nc_open(filename)\n",
    "lon  \t= a$dim$lon$vals      # longitude (degrees E)\n",
    "lat\t    = a$dim$lat$vals      # latitude  (degrees N)\n",
    "lead\t= a$dim$step$vals     # lead time (hours since initial time)\n",
    "\n",
    "ivt \t= ncvar_get(a,\"ivt\")\n",
    "# can check dimensions of IVT variable using command: dim(ivt).   Dimensions are lon x lat x lead x ensemble member\n",
    "\n",
    "\n",
    "\n",
    "\n",
    "#------------------------------------------------------------------\n",
    "# CHOOSE DOMAIN FOR IVT NEAR WESTERN U.S. (20N - 60N, 200E - 250E)\n",
    "#------------------------------------------------------------------\n",
    "\n",
    "lon1 = wherenearest(lon,200)\n",
    "lon2 = wherenearest(lon,250)\n",
    "\n",
    "lat1 = wherenearest(lat,20)\n",
    "lat2 = wherenearest(lat,60)\n",
    "\n",
    "\n",
    "ivt_west = ivt[lon1:lon2,lat1:lat2,,]\n",
    "\n",
    "\n",
    "#----------------------------------------------------------\n",
    "# PLOT IVT(x,y) FOR A 7-DAY LEAD TIME AND ENSEMBLE MEMBER\n",
    "#----------------------------------------------------------\n",
    "\n",
    "\n",
    "library(maps)\n",
    "\n",
    "\n",
    "cex.main = 1.3\t\t# title size\n",
    "cex.axis = 0.9\t\t# axis values size\n",
    "cex.lab = 1.1\t\t# axis label size\n",
    "\n",
    "labcex = 1.1\t\t# contour value size\n",
    "labelcex = 1.1\t\t# colorbar values size\n",
    "\n",
    "cmap = 'topoREV'\t# colormap choice\n",
    "satmask = 'low'\t# saturation choice\n",
    "\n",
    "zrange = c(0,800)\n",
    "\n",
    "\n",
    "\n",
    "\n",
    "#pdf('test_ivt_07jul2021.pdf')\n",
    "\n",
    "mar=c(3,4,5,3)\n",
    "par(mar=mar)\n",
    "\n",
    "#note: choose 7th element of \"ivt_west\" lead time dimension for 7-day lead plot.\n",
    "\n",
    "ccontour(alon[lon1:lon2],lat[lat1:lat2],ivt_west[,,7,1],zrange=zrange,cmap=cmap,satmask=satmask,xlab='',ylab='',main='ECMWF IVT 7-day forecast for Feb 13 2017 initial forecast')\n",
    "mcontour(lon[lon1:lon2],lat[lat1:lat2],ivt_west[,,7,1],levels=seq(0,1000,by=100),docolor=F,add=T)\n",
    "map('world2',add=T)\n",
    "plot_state_other_lon_branch(add=T)\n",
    "\n",
    " mcolorbar(ivt_west,zrange=zrange,cmap=cmap,lon[lon2]+1,lat[lat1],lon[lon2]+2,lat[lat2],satmask=satmask,horiz=F)\n",
    "\n",
    "#dev.off()"
   ]
  },
  {
   "cell_type": "code",
   "execution_count": 3,
   "id": "0e1adf02-1b07-4ee7-9f46-095e5d9451ae",
   "metadata": {},
   "outputs": [
    {
     "name": "stderr",
     "output_type": "stream",
     "text": [
      "Warning message in install.packages(\"ncdf4\"):\n",
      "“'lib = \"/glade/u/ssg/ch/usr/jupyterhub/envs/r-3.5.1/lib/R/library\"' is not writable”"
     ]
    },
    {
     "ename": "ERROR",
     "evalue": "Error in install.packages(\"ncdf4\"): unable to install packages\n",
     "execution_count": 3,
     "output_type": "error",
     "traceback": [
      "Error in install.packages(\"ncdf4\"): unable to install packages\nTraceback:\n",
      "1. install.packages(\"ncdf4\")",
      "2. stop(\"unable to install packages\")"
     ]
    }
   ],
   "source": [
    "install.packages('ncdf4')"
   ]
  },
  {
   "cell_type": "code",
   "execution_count": null,
   "id": "38286f19-5d07-4e6c-b26d-b2d8280dcfd8",
   "metadata": {},
   "outputs": [],
   "source": []
  }
 ],
 "metadata": {
  "kernelspec": {
   "display_name": "R 3.5.1",
   "language": "R",
   "name": "ir351"
  },
  "language_info": {
   "codemirror_mode": "r",
   "file_extension": ".r",
   "mimetype": "text/x-r-source",
   "name": "R",
   "pygments_lexer": "r",
   "version": "3.5.1"
  }
 },
 "nbformat": 4,
 "nbformat_minor": 5
}
